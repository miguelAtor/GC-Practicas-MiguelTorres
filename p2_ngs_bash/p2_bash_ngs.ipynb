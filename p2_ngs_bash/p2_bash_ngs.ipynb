{
 "cells": [
  {
   "cell_type": "markdown",
   "id": "9b3c048f",
   "metadata": {},
   "source": [
    "# Práctica 2: Bash y NGS\n",
    "\n",
    "### Miguel Angel Torres Sánchez"
   ]
  },
  {
   "cell_type": "markdown",
   "id": "02ceb37a",
   "metadata": {},
   "source": [
    "## Parte I. Manejo de directorios\n",
    "\n",
    "* **Creación de directorios**: Inicia la terminal y colócate en el directorio de tus documentos. Crea un directorio llamado: `p2_nombre_apellido`. Ingresa a la carpeta `p2_nombre_apellido` e imprime la ruta absoluta de ésta. \n",
    "\n",
    "Nota: No olivedes que debes ser reportados todos los **outputs**."
   ]
  },
  {
   "cell_type": "code",
   "execution_count": 1,
   "id": "7c88b7d4",
   "metadata": {},
   "outputs": [],
   "source": [
    "# Comando para crear directorio\n",
    "mkdir p2_Miguel_Torres"
   ]
  },
  {
   "cell_type": "code",
   "execution_count": 1,
   "id": "0db2aed9",
   "metadata": {},
   "outputs": [],
   "source": [
    "# Comando para ingresar a directorio\n",
    "cd p2_Miguel_Torres"
   ]
  },
  {
   "cell_type": "code",
   "execution_count": 3,
   "id": "7f06ca13",
   "metadata": {},
   "outputs": [
    {
     "name": "stdout",
     "output_type": "stream",
     "text": [
      "/home/miguel/Jupyter/GenomicaP2/p2_Miguel_Torres\n"
     ]
    }
   ],
   "source": [
    "# Comando para imprimir ruta\n",
    "pwd"
   ]
  },
  {
   "cell_type": "markdown",
   "id": "c64df08d",
   "metadata": {},
   "source": [
    "* Indica que tipo de shell tiene tu computadora. Visita [el siguiente sitio](https://askubuntu.com/questions/590899/how-do-i-check-which-shell-i-am-using) para conocer el comando. \n",
    "\n",
    "Es de tipo Bash."
   ]
  },
  {
   "cell_type": "code",
   "execution_count": 5,
   "id": "bbf2347a",
   "metadata": {},
   "outputs": [
    {
     "name": "stdout",
     "output_type": "stream",
     "text": [
      "/usr/bin/bash\n"
     ]
    }
   ],
   "source": [
    "# Comando para conocer shell\n",
    "echo $0"
   ]
  },
  {
   "cell_type": "markdown",
   "id": "46ae418b",
   "metadata": {},
   "source": [
    "* Un proyecto bioinformático que se quiere publicar, debe estar bien documentado y organizado. Dentro de tu carpeta de trabajo crea en una sola línea las siguientes directorios `data`, `raw_data`, `filtered`, `meta`, `scripts`, `figures`, `archive`. Después mueve `raw_data` y `filtered` dentro de `data`. "
   ]
  },
  {
   "cell_type": "code",
   "execution_count": 7,
   "id": "9fd3029f",
   "metadata": {},
   "outputs": [],
   "source": [
    "# Comando para crear directorios\n",
    "mkdir data raw_data filtered meta scripts figures achive"
   ]
  },
  {
   "cell_type": "code",
   "execution_count": 8,
   "id": "82572593",
   "metadata": {},
   "outputs": [],
   "source": [
    "# Comando para mover raw_data y filtered\n",
    "mv raw_data ./data\n",
    "mv filtered ./data"
   ]
  },
  {
   "cell_type": "markdown",
   "id": "804f8b58",
   "metadata": {},
   "source": [
    "* Visita [el siguiente repositorio](https://github.com/u-genoma/BioinfinvRepro/blob/master/Unidad2/Unidad2_Organizacion_proyecto_bioinf.md) de `GitHub` y contesta ¿A qué se debe el nombre y la organización de los directorios que acabamos de crear? "
   ]
  },
  {
   "cell_type": "markdown",
   "id": "a504175d",
   "metadata": {},
   "source": [
    "Para seguir una manera convencional de compartir nuestro poyecto con la que otros científicos e investigadores podrán revisarlo facilmente."
   ]
  },
  {
   "cell_type": "markdown",
   "id": "f9093c8c",
   "metadata": {},
   "source": [
    "## Parte II.  Manejo de archivos\n",
    "\n",
    "En ésta parte trabajarás con secuencias genómicas de un organismo de tu interés (te sugiero que sea una bacteria, arquea o virus (excepto SARS-COV2) por el tamaño de los archivos). De ese organismo deberás conseguir: \n",
    "\n",
    "1. El archivo crudo (`fastq`). Para conseguir este archivo puedes consultar el base de datos de [SRA](https://www.ncbi.nlm.nih.gov/sra) o el [ENA](https://www.ebi.ac.uk/ena/browser/home). \n",
    "2. La secuencia de DNA (`fasta`).\n",
    "3. El archivo con genes anotados (`gff`).\n",
    "4. Un archivo con la descripción del proyecto, puede ser un Genbank o similar. \n",
    "\n",
    "* Guarda cada archivo con la siguiente estructura: `nombre_bicho.formato` (en `nombre_bicho` tienes que poner el nombre científico del organismo que elegiste).\n",
    "* Descarga éstos cuatro archivos en tu carpeta `p2_nombre_apellido`.\n",
    "\n"
   ]
  },
  {
   "cell_type": "markdown",
   "id": "68f7b5c0",
   "metadata": {},
   "source": [
    "* Cuéntame sobre el organismo que elegiste, elabora un resumen de 120 palabras de ese bicho."
   ]
  },
  {
   "cell_type": "markdown",
   "id": "81bd6f62",
   "metadata": {},
   "source": [
    "Escherichia coli es una bacteria miembro de la familia de las enterobacterias y forma parte de la microbiota del tracto gastrointestinal de animales homeotermos, como por ejemplo el ser humano. Es la bacteria anaerobia facultativa comensal más abundante de la microbiota del tracto gastrointestinal. E. coli además participa en la producción de las vitaminas B y K.\n",
    "\n",
    "- Escherichia coli. (2022, 4 de mayo). Wikipedia, La enciclopedia libre. Fecha de consulta: 20:07, mayo 12, 2022 desde https://es.wikipedia.org/w/index.php?title=Escherichia_coli&oldid=143310182. "
   ]
  },
  {
   "cell_type": "markdown",
   "id": "15bdf2ae",
   "metadata": {},
   "source": [
    "* ¿Existe una publicación sobre la secuenciación y ensamblado de su genoma? Colóca la fuente en formato APA. "
   ]
  },
  {
   "cell_type": "markdown",
   "id": "568222a8",
   "metadata": {},
   "source": [
    "Xavier, B. B., Vervoort, J., Stewardson, A., Adriaenssens, N., Coenen, S., Harbarth, S., Goossens, H., & Malhotra-Kumar, S. (2014). Complete Genome Sequences of Nitrofurantoin-Sensitive and -Resistant Escherichia coli ST540 and ST2747 Strains. Genome announcements, 2(2), e00239-14. https://doi.org/10.1128/genomeA.00239-14"
   ]
  },
  {
   "cell_type": "markdown",
   "id": "374b9947",
   "metadata": {},
   "source": [
    "* ¿Qué plataforma de secuenciación se utilizó? Explica brevemente las características de esa plataforma de secuenciación. "
   ]
  },
  {
   "cell_type": "markdown",
   "id": "21661297",
   "metadata": {},
   "source": [
    "Se utilizó la la tecnología de PacBio.\n",
    "Pacific Biosciences of California, Inc. (PacBio) es una compañía de biotecnología que desarrolla sistemas para la secuenciación de genes. Utiliza el método Single-molecule real-time sequencing en sus plataformas."
   ]
  },
  {
   "cell_type": "markdown",
   "id": "af3477f4",
   "metadata": {},
   "source": [
    "* Mueve tus cuatro archivos a la carpeta de `raw_data` y has un `ls` con formato largo y legible para humanos. Después copia el archivo `gff` a tu carpeta `filtered.`"
   ]
  },
  {
   "cell_type": "code",
   "execution_count": 8,
   "id": "e161e7dd",
   "metadata": {},
   "outputs": [],
   "source": [
    "# Comando para mover archivos\n",
    "mv Escherichia_coli.fasta ./data/raw_data\n",
    "mv Escherichia_coli.fastq ./data/raw_data\n",
    "mv Escherichia_coli.gb ./data/raw_data\n",
    "mv Escherichia_coli.gff3 ./data/raw_data"
   ]
  },
  {
   "cell_type": "code",
   "execution_count": 9,
   "id": "69a5c515",
   "metadata": {},
   "outputs": [
    {
     "name": "stdout",
     "output_type": "stream",
     "text": [
      "total 12M\n",
      "-rw-rw-r-- 1 miguel miguel 4.7M may 13 12:05 Escherichia_coli.fasta\n",
      "-rw-rw-r-- 1 miguel miguel    1 may 13 12:19 Escherichia_coli.fastq\n",
      "-rw-rw-r-- 1 miguel miguel 5.1M may 13 15:03 Escherichia_coli.gb\n",
      "-rw-rw-r-- 1 miguel miguel 2.3M may 13 12:07 Escherichia_coli.gff3\n"
     ]
    }
   ],
   "source": [
    "# Comando para listado largo y legible para humanos\n",
    "ls -h -l ./data/raw_data"
   ]
  },
  {
   "cell_type": "code",
   "execution_count": 10,
   "id": "08fce6d5",
   "metadata": {},
   "outputs": [],
   "source": [
    "# Comando para copiar archivo gff\n",
    "cp ./data/raw_data/Escherichia_coli.gff3 ./data/filtered"
   ]
  },
  {
   "cell_type": "markdown",
   "id": "e275127c",
   "metadata": {},
   "source": [
    "* Explora tus tres archivos (`fastq`,`fasta`, y `gff`) , utiliza un comando para ver las primeras 12 líneas de cada archivo."
   ]
  },
  {
   "cell_type": "code",
   "execution_count": 12,
   "id": "7a8504c6",
   "metadata": {},
   "outputs": [
    {
     "name": "stdout",
     "output_type": "stream",
     "text": [
      "\n"
     ]
    }
   ],
   "source": [
    "# Comando para ver fastq\n",
    "head -n 12 ./data/raw_data/Escherichia_coli.fastq"
   ]
  },
  {
   "cell_type": "code",
   "execution_count": 13,
   "id": "c26404c2",
   "metadata": {},
   "outputs": [
    {
     "name": "stdout",
     "output_type": "stream",
     "text": [
      ">CP007265.1 Escherichia coli strain ST540, complete genome\n",
      "GTTTCAGCCTTAGTCATTATCGACTTTTGTTCGAGTGGAGTCCGCCGTGTCACTTTCGCTTTGGCAGCAG\n",
      "TGTCTTGCCCGATTGCAGGATGAGTTACCAGCCACAGAATTCAGTATGTGGATACGCCCATTGCAGGCGG\n",
      "AACTGAGCGATAACACGCTGGCCCTGTACGCGCCAAACCGTTTTGTCCTCGATTGGGTACGGGACAAGTA\n",
      "CCTTAATAATATCAATGGACTGCTAACCAGTTTCTGCGGAGCGGATGCCCCACAGCTGCGTTTTGAAGTC\n",
      "GGCACCAAACCGGTGACGCAAACGCCACAAGCGGCAGTGACGAGCAACGTCGCGGCCCCTGCACAGGTGG\n",
      "CGCAAACGCAGCCGCAACGTGCTGCGCCTTCTACGCGCTCAGGTTGGGATAACGTCCCGGCCCCGGCAGA\n",
      "ACCGACCTATCGTTCTAACGTAAACGTCAAACACACGTTTGATAACTTCGTTGAAGGTAAATCTAACCAA\n",
      "CTGGCGCGCGCGGCGGCTCGCCAGGTGGCGGATAACCCTGGCGGTGCCTATAACCCGTTGTTCCTTTATG\n",
      "GCGGCACGGGTCTGGGTAAAACTCACCTGCTGCATGCGGTGGGTAACGGCATTATGGCGCGCAAGCCGAA\n",
      "TGCCAAAGTGGTTTATATGCACTCCGAGCGCTTTGTTCAGGACATGGTTAAAGCCCTGCAAAACAACGCG\n",
      "ATCGAAGAGTTTAAACGCTACTACCGTTCCGTAGATGCACTGCTGATCGACGATATTCAGTTTTTTGCTA\n"
     ]
    }
   ],
   "source": [
    "# Comando para ver fasta\n",
    "head -n 12 ./data/raw_data/Escherichia_coli.fasta"
   ]
  },
  {
   "cell_type": "code",
   "execution_count": 14,
   "id": "892105cb",
   "metadata": {},
   "outputs": [
    {
     "name": "stdout",
     "output_type": "stream",
     "text": [
      "##sequence-region CP007265.1 1 4758629\n",
      "##species https://www.ncbi.nlm.nih.gov/Taxonomy/Browser/wwwtax.cgi?id=562\n",
      "CP007265.1\tGenbank\tregion\t1\t4758629\t.\t+\t.\tID=CP007265.1:1..4758629;Dbxref=taxon:562;Is_circular=true;Name=ANONYMOUS;gbkey=Src;genome=chromosome;isolation-source=gut;mol_type=genomic DNA;nat-host=Homo sapiens;strain=ST540\n",
      "CP007265.1\tGenbank\tgene\t47\t1450\t.\t+\t.\tID=gene-BU34_00005;Name=dnaA;gbkey=Gene;gene=dnaA;gene_biotype=protein_coding;locus_tag=BU34_00005\n",
      "CP007265.1\tProtein Homology\tCDS\t47\t1450\t.\t+\t0\tID=cds-AHM27911.1;Parent=gene-BU34_00005;Dbxref=NCBI_GP:AHM27911.1;Name=AHM27911.1;Note=binds to the dnaA-box as an ATP-bound complex at the origin of replication during the initiation of chromosomal replication%3B can also affect transcription of multiple genes including itself.;gbkey=CDS;gene=dnaA;inference=EXISTENCE: similar to AA sequence:RefSeq:WP_005121475.1;locus_tag=BU34_00005;product=chromosomal replication initiation protein;protein_id=AHM27911.1;transl_table=11\n",
      "CP007265.1\tGenbank\tgene\t1455\t2555\t.\t+\t.\tID=gene-BU34_00010;Name=BU34_00010;gbkey=Gene;gene_biotype=protein_coding;locus_tag=BU34_00010\n",
      "CP007265.1\tProtein Homology\tCDS\t1455\t2555\t.\t+\t0\tID=cds-AHM27912.1;Parent=gene-BU34_00010;Dbxref=NCBI_GP:AHM27912.1;Name=AHM27912.1;Note=binds the polymerase to DNA and acts as a sliding clamp;gbkey=CDS;inference=EXISTENCE: similar to AA sequence:RefSeq:WP_006177590.1;locus_tag=BU34_00010;product=DNA polymerase III subunit beta;protein_id=AHM27912.1;transl_table=11\n",
      "CP007265.1\tGenbank\tgene\t2555\t3628\t.\t+\t.\tID=gene-BU34_00015;Name=recF;gbkey=Gene;gene=recF;gene_biotype=protein_coding;locus_tag=BU34_00015\n",
      "CP007265.1\tProtein Homology\tCDS\t2555\t3628\t.\t+\t0\tID=cds-AHM27913.1;Parent=gene-BU34_00015;Dbxref=NCBI_GP:AHM27913.1;Name=AHM27913.1;Note=Required for DNA replication%3B binds preferentially to single-stranded%2C linear DNA;gbkey=CDS;gene=recF;inference=EXISTENCE: similar to AA sequence:RefSeq:WP_005121479.1;locus_tag=BU34_00015;product=recombination protein F;protein_id=AHM27913.1;transl_table=11\n",
      "CP007265.1\tGenbank\tgene\t3657\t6071\t.\t+\t.\tID=gene-BU34_00020;Name=gyrB;gbkey=Gene;gene=gyrB;gene_biotype=protein_coding;locus_tag=BU34_00020\n",
      "CP007265.1\tProtein Homology\tCDS\t3657\t6071\t.\t+\t0\tID=cds-AHM27914.1;Parent=gene-BU34_00020;Dbxref=NCBI_GP:AHM27914.1;Name=AHM27914.1;Note=negatively supercoils closed circular double-stranded DNA;gbkey=CDS;gene=gyrB;inference=EXISTENCE: similar to AA sequence:RefSeq:WP_005121480.1;locus_tag=BU34_00020;product=DNA gyrase subunit B;protein_id=AHM27914.1;transl_table=11\n",
      "CP007265.1\tGenbank\tgene\t6091\t6291\t.\t+\t.\tID=gene-BU34_00025;Name=BU34_00025;gbkey=Gene;gene_biotype=protein_coding;locus_tag=BU34_00025\n"
     ]
    }
   ],
   "source": [
    "# Comando para ver gff\n",
    "head -n 12 ./data/raw_data/Escherichia_coli.gff3"
   ]
  },
  {
   "cell_type": "markdown",
   "id": "863add6f",
   "metadata": {},
   "source": [
    "* Ya que los exploraste, identifica un caracter en los archivos `fastq` y `fasta` que te ayuden a contar el número de secuencias que contiene cada uno. Ahora, utilliza un comando para conocer el número de secuencias en cada archivo. "
   ]
  },
  {
   "cell_type": "code",
   "execution_count": 18,
   "id": "5749e984",
   "metadata": {},
   "outputs": [
    {
     "name": "stdout",
     "output_type": "stream",
     "text": [
      "0\n"
     ]
    }
   ],
   "source": [
    "# Comando para contar secuencias en fastq\n",
    "grep -o '@' ./data/raw_data/Escherichia_coli.fastq | wc -l"
   ]
  },
  {
   "cell_type": "code",
   "execution_count": 16,
   "id": "65ad7b75",
   "metadata": {},
   "outputs": [
    {
     "name": "stdout",
     "output_type": "stream",
     "text": [
      "1\n"
     ]
    }
   ],
   "source": [
    "# Comando para contar secuencias en fasta\n",
    "grep -o '>' ./data/raw_data/Escherichia_coli.fasta | wc -l"
   ]
  },
  {
   "cell_type": "markdown",
   "id": "27951c48",
   "metadata": {},
   "source": [
    "* Explica la diferencia entre los formatos `faa`, `fna`, `fastq`, `fasta` y `gff`"
   ]
  },
  {
   "cell_type": "markdown",
   "id": "c4c5eebc",
   "metadata": {},
   "source": [
    "Los formatos `faa`, `fna` y `fasta` son todas extensiones para archivos FASTA. Lo generan las plataformas de secuenciación y contienen las secuencias crudas.\n",
    "\n",
    "El formato `fastq` es la extensión para archivos FASTQ que son similares a los FASTA pero contienen información sobre la calidad de la secuencia.\n",
    "\n",
    "El formato `gff`son archivos que llevan anotaciones sobre cada gen u objeto después de un ensamble."
   ]
  },
  {
   "cell_type": "markdown",
   "id": "e3a3869f",
   "metadata": {},
   "source": [
    "* Abre el archivo `gff` de las siguientes formas `less archivo.gff3` y `less -S archivo.gff3`. Observa las diferencias y explicalas. "
   ]
  },
  {
   "cell_type": "code",
   "execution_count": null,
   "id": "4c110f31",
   "metadata": {},
   "outputs": [
    {
     "name": "stdout",
     "output_type": "stream",
     "text": [
      "##sequence-region CP007265.1 1 4758629\n",
      "##species https://www.ncbi.nlm.nih.gov/Taxonomy/Browser/wwwtax.cgi?id=562\n",
      "CP007265.1      Genbank region  1       4758629 .       +       .       ID=CP007265.1:1..4758629;Dbxref=taxon:562;Is_circular=true;Name=ANONYMOUS;gbkey=Src;genome=chromosome;isolation-source=gut;mol_type=genomic DNA;nat-host=Homo sapiens;strain=ST540\n",
      "CP007265.1      Genbank gene    47      1450    .       +       .       ID=gene-BU34_00005;Name=dnaA;gbkey=Gene;gene=dnaA;gene_biotype=protein_coding;locus_tag=BU34_00005\n",
      "CP007265.1      Protein Homology        CDS     47      1450    .       +       0       ID=cds-AHM27911.1;Parent=gene-BU34_00005;Dbxref=NCBI_GP:AHM27911.1;Name=AHM27911.1;Note=binds to the dnaA-box as an ATP-bound complex at the origin of replication during the initiation of chromosomal replication%3B can also affect transcription of multiple genes including itself.;gbkey=CDS;gene=dnaA;inference=EXISTENCE: similar to AA sequence:RefSeq:WP_005121475.1;locus_tag=BU34_00005;product=chromosomal replication initiation protein;protein_id=AHM27911.1;transl_table=11\n",
      "CP007265.1      Genbank gene    1455    2555    .       +       .       ID=gene-BU34_00010;Name=BU34_00010;gbkey=Gene;gene_biotype=protein_coding;locus_tag=BU34_00010\n"
     ]
    }
   ],
   "source": [
    "# less archivo.gff3\n",
    "less ./data/raw_data/Escherichia_coli.gff3"
   ]
  },
  {
   "cell_type": "code",
   "execution_count": null,
   "id": "1aeceaf0",
   "metadata": {},
   "outputs": [
    {
     "name": "stdout",
     "output_type": "stream",
     "text": [
      "##sequence-region CP007265.1 1 4758629\n",
      "##species https://www.ncbi.nlm.nih.gov/Taxonomy/Browser/wwwtax.cgi?id=562\n",
      "CP007265.1      Genbank region  1       4758629 .       +       .       ID=CP00\u001b[7m>\u001b[27m\n",
      "CP007265.1      Genbank gene    47      1450    .       +       .       ID=gene\u001b[7m>\u001b[27m\n",
      "CP007265.1      Protein Homology        CDS     47      1450    .       +      \u001b[7m>\u001b[27m\n",
      "CP007265.1      Genbank gene    1455    2555    .       +       .       ID=gene\u001b[7m>\u001b[27m\n",
      "CP007265.1      Protein Homology        CDS     1455    2555    .       +      \u001b[7m>\u001b[27m\n",
      "CP007265.1      Genbank gene    2555    3628    .       +       .       ID=gene\u001b[7m>\u001b[27m\n",
      "CP007265.1      Protein Homology        CDS     2555    3628    .       +      \u001b[7m>\u001b[27m\n",
      "CP007265.1      Genbank gene    3657    6071    .       +       .       ID=gene\u001b[7m>\u001b[27m\n",
      "CP007265.1      Protein Homology        CDS     3657    6071    .       +      \u001b[7m>\u001b[27m\n",
      "CP007265.1      Genbank gene    6091    6291    .       +       .       ID=gene\u001b[7m>\u001b[27m\n",
      "CP007265.1      Protein Homology        CDS     6091    6291    .       +      \u001b[7m>\u001b[27m\n",
      "CP007265.1      Genbank gene    6311    6709    .       +       .       ID=gene\u001b[7m>\u001b[27m\n",
      "CP007265.1      Protein Homology        CDS     6311    6709    .       +      \u001b[7m>\u001b[27m\n",
      "CP007265.1      Genbank gene    6824    7636    .       +       .       ID=gene\u001b[7m>\u001b[27m\n",
      "CP007265.1      Protein Homology        CDS     6824    7636    .       +      \u001b[7m>\u001b[27m\n",
      "CP007265.1      Genbank gene    7682    8338    .       -       .       ID=gene\u001b[7m>\u001b[27m\n",
      "CP007265.1      Protein Homology        CDS     7682    8338    .       -      \u001b[7m>\u001b[27m\n",
      "CP007265.1      Genbank gene    8616    9305    .       +       .       ID=gene\u001b[7m>\u001b[27m\n",
      "CP007265.1      Protein Homology        CDS     8616    9305    .       +      \u001b[7m>\u001b[27m\n",
      "CP007265.1      Genbank gene    9302    10180   .       +       .       ID=gene\u001b[7m>\u001b[27m\n",
      "CP007265.1      Protein Homology        CDS     9302    10180   .       +      \u001b[7m>\u001b[27m\n"
     ]
    }
   ],
   "source": [
    "# less -S archivo.gff3\n",
    "less -S ./data/raw_data/Escherichia_coli.gff3"
   ]
  },
  {
   "cell_type": "markdown",
   "id": "ff644892",
   "metadata": {},
   "source": [
    "La diferencia entre el primer comando y el segundo es que en el primero se muestran todas las líneas de texto completas y si no caben dentro de la pantalla muestra la continuación en la siguiente línea. Mientras que el segundo comando solamente muestra las partes de las líneas de texto que caben en la pantalla, el resto de la línea no se muestra."
   ]
  },
  {
   "cell_type": "markdown",
   "id": "3ae3acd0",
   "metadata": {},
   "source": [
    "* Entra a tu carpeta de `filtered` utilizando una ruta relativa. "
   ]
  },
  {
   "cell_type": "code",
   "execution_count": 2,
   "id": "b0760858",
   "metadata": {},
   "outputs": [
    {
     "name": "stdout",
     "output_type": "stream",
     "text": [
      "/home/miguel/Jupyter/GenomicaP2/p2_Miguel_Torres/data/filtered\n"
     ]
    }
   ],
   "source": [
    "# Comando\n",
    "cd ./data/filtered\n",
    "pwd "
   ]
  },
  {
   "cell_type": "markdown",
   "id": "05e29667",
   "metadata": {},
   "source": [
    "* Cambia el nombre del archivo que tienes aquí por `cp_nombre_bicho.gff` (en `nombre_bicho` tienes que poner el nombre científico del organismo que elegiste)."
   ]
  },
  {
   "cell_type": "code",
   "execution_count": 4,
   "id": "8f115cc1",
   "metadata": {},
   "outputs": [],
   "source": [
    "# Comando para cambiar nombre de un archivo\n",
    "mv Escherichia_coli.gff3 cp_Escherichia_coli.gff"
   ]
  },
  {
   "cell_type": "markdown",
   "id": "0fb010a5",
   "metadata": {},
   "source": [
    "* Filtra el tercer campo de tu archivo `gff` por la categoría `gene` y reporta la cantidad de genes que tiene el archivo. Contesta: \n",
    "\n",
    "1. ¿A qué corresponde el campo tres? \n",
    "2. ¿Cuál es la diferencia entre gene y CDS?"
   ]
  },
  {
   "cell_type": "code",
   "execution_count": 4,
   "id": "88dd5a4a",
   "metadata": {},
   "outputs": [
    {
     "name": "stdout",
     "output_type": "stream",
     "text": [
      "4649\n"
     ]
    }
   ],
   "source": [
    "# Comando para concer cuántos genes hay\n",
    "awk '{if ($3 == \"gene\") {print $3}}' cp_Escherichia_coli.gff | wc -l"
   ]
  },
  {
   "cell_type": "markdown",
   "id": "fd3e0004",
   "metadata": {},
   "source": [
    "El campo 3 corresponde a la característica de la secuencia.\n",
    "Un `CDS` es una secuencia que codifica a una proteína, mientras que `gene` codifica a un gen."
   ]
  },
  {
   "cell_type": "markdown",
   "id": "f9c99f53",
   "metadata": {},
   "source": [
    "## Parte III. Visualización con Python"
   ]
  },
  {
   "cell_type": "markdown",
   "id": "5498391f",
   "metadata": {},
   "source": [
    "* En tu archivo `gff`, identifica cuántas categorías distintas existen en el campo 3 y cuántas veces aparecen. Redirecciona la salida a un archivo que se llame `barplot_data.txt`"
   ]
  },
  {
   "cell_type": "code",
   "execution_count": 4,
   "id": "ca6c6c5e",
   "metadata": {},
   "outputs": [],
   "source": [
    "# Comando"
   ]
  },
  {
   "cell_type": "markdown",
   "id": "f0d4427e",
   "metadata": {},
   "source": [
    "* Crea una figura a partir de `barplot_data.txt`, para esto puedes utiliza el siguiete script de Python para generar una figura. \n",
    "\n",
    "```python\n",
    "\n",
    "import numpy as np\n",
    "import matplotlib.pyplot as plt\n",
    "from textwrap import wrap\n",
    "\n",
    "# Crea el dataset con tus datos obtenidos en barplot_data.txt\n",
    "frecuencias = [3, 12, 5, 18, 45]\n",
    "# Cambia el nombre de las categorías por las que obtuviste no lo dejes como \"Categoría A\", etc.\n",
    "categorias = ['Categoría A', 'Categoría B', 'Categoría C', 'Categoría D', 'Categoría E']\n",
    "categorias = [ ''.join(wrap(l, 11)) for l in categorias]\n",
    "\n",
    "y_pos = np.arange(len(categorias))\n",
    "\n",
    "# Gráfico de barras\n",
    "plt.bar(y_pos, frecuencias)\n",
    "\n",
    "# Nombres en el eje-x\n",
    "plt.xticks(y_pos, categorias)\n",
    "\n",
    "# Mostrar la gráfica\n",
    "plt.show()\n",
    "\n",
    "```\n",
    "\n",
    "También puedes generar tu figura con R o Julia, **prohibido** usar Excel.\n",
    "\n",
    "* Guarda la figura en tu carpeta `figures` con el nombre `barplot.png`.\n",
    "* Guardar el código que utilizaste en la carpeta `scripts`, lo puedes guardar en cualquier formato. "
   ]
  },
  {
   "cell_type": "markdown",
   "id": "b4cd5fba",
   "metadata": {},
   "source": [
    "* Guarda tu libreta de `Jupyter` o tu `md` con tu nombre, las preguntas, los comandos y los outputs en la carpeta `scripts`. \n",
    "\n",
    "* Comprime tu carpeta `p2_nombre_apellido` y súbela en la sección de Classroom correspondiente."
   ]
  }
 ],
 "metadata": {
  "kernelspec": {
   "display_name": "Bash",
   "language": "bash",
   "name": "bash"
  },
  "language_info": {
   "codemirror_mode": "shell",
   "file_extension": ".sh",
   "mimetype": "text/x-sh",
   "name": "bash"
  }
 },
 "nbformat": 4,
 "nbformat_minor": 5
}
